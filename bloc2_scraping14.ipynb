{
 "cells": [
  {
   "cell_type": "markdown",
   "id": "17b2f2fb",
   "metadata": {},
   "source": [
    "# WebScraping"
   ]
  },
  {
   "cell_type": "markdown",
   "id": "741e2b29",
   "metadata": {},
   "source": [
    "Analizar una web\n",
    "https://realpython.com/beautiful-soup-web-scraper-python/\n",
    "Librería request"
   ]
  },
  {
   "cell_type": "code",
   "execution_count": null,
   "id": "b61fc9b0",
   "metadata": {},
   "outputs": [],
   "source": [
    "import requests\n",
    "from bs4 import BeautifulSoup\n",
    "\n",
    "web='https://valeriemoreau.com/'\n",
    "pagina=requests.get(web)\n",
    "#print(pagina.content)\n",
    "soup=BeautifulSoup(pagina.content,'html.parser') #permite recorrer html. id,class,tag...\n",
    "#resultado=soup.find(id='st-container')\n",
    "resultado = soup.find_all(\"div\", class_=\"st-content\")\n",
    "print(resultado)"
   ]
  },
  {
   "cell_type": "code",
   "execution_count": null,
   "id": "12bdecd1",
   "metadata": {},
   "outputs": [],
   "source": [
    "import requests\n",
    "from bs4 import BeautifulSoup\n",
    "\n",
    "web='https://www.infojobs.net/'\n",
    "pagina=requests.get(web)\n",
    "#print(pagina.content)\n",
    "soup=BeautifulSoup(pagina.content,'html.parser')\n",
    "resultado=soup.find(id='searchBox')\n",
    "print(resultado)"
   ]
  },
  {
   "cell_type": "markdown",
   "id": "c3a325fb",
   "metadata": {},
   "source": [
    "Entra en esta web\n",
    "https://www.xataka.com/categoria/seguridad\n",
    "web='https://valeriemoreau.com/'\n",
    "Muestra por pantalla el contenido de id llamado fb-root\n",
    "Muestra por pantalla el contenido de class llamado container\n",
    "Muestra por pantalla el listado de imágenes (esto NO lo hemos explicado todavía)\n",
    "https://www.makeuseof.com/python-scrape-web-images-how-to/\n",
    "\n"
   ]
  },
  {
   "cell_type": "code",
   "execution_count": null,
   "id": "9159f700",
   "metadata": {},
   "outputs": [],
   "source": [
    "import requests\n",
    "from bs4 import BeautifulSoup\n",
    "\n",
    "web='https://valeriemoreau.com/'\n",
    "pagina=requests.get(web)\n",
    "#print(pagina.content)\n",
    "soup=BeautifulSoup(pagina.content,'html.parser')\n",
    "resultado=soup.find('img')\n",
    "print(resultado)"
   ]
  },
  {
   "cell_type": "markdown",
   "id": "a2a088e0",
   "metadata": {},
   "source": [
    "Crea un código para mostrar los enlaces de una página.\n",
    "<a href=\"\">....</a>\n",
    "cuidado con la diferencia entre  find y find_all\n",
    "para mostrar un atributo se utilizan [], es decir a['href']"
   ]
  },
  {
   "cell_type": "code",
   "execution_count": null,
   "id": "abb6e74b",
   "metadata": {},
   "outputs": [],
   "source": [
    "import requests\n",
    "from bs4 import BeautifulSoup\n",
    "\n",
    "web='https://valeriemoreau.com/'\n",
    "pagina=requests.get(web)\n",
    "#print(pagina.content)\n",
    "soup=BeautifulSoup(pagina.content,'html.parser')\n",
    "resultado=soup.find_all('a')\n",
    "for item in resultado:\n",
    "    print(item['href'])\n",
    "#print(resultado['href'])\n"
   ]
  },
  {
   "cell_type": "markdown",
   "id": "bb229f52",
   "metadata": {},
   "source": [
    "Crea un código para mostrar las rutas de los archivos de las imágenes de una página.\n",
    "<img src=\"\">....</a>\n",
    "cuidado con la diferencia entre  find y find_all\n",
    "para mostrar un atributo se utilizan [], es decir a['src']"
   ]
  },
  {
   "cell_type": "code",
   "execution_count": null,
   "id": "fe12e02e",
   "metadata": {},
   "outputs": [],
   "source": [
    "import requests\n",
    "from bs4 import BeautifulSoup\n",
    "\n",
    "web='https://valeriemoreau.com/'\n",
    "pagina=requests.get(web)\n",
    "soup=BeautifulSoup(pagina.content,'html.parser')\n",
    "resultado=soup.find_all('img')\n",
    "for item in resultado:\n",
    "    print(item['src'])"
   ]
  },
  {
   "cell_type": "markdown",
   "id": "f476bbb3",
   "metadata": {},
   "source": [
    "Librería llamada os que permite gestionar tu sistema operativo.\n",
    "crear carpetas, borrar archivos, guardar archivos\n",
    "https://unipython.com/operaciones-con-archivos-y-carpetas-en-python/"
   ]
  },
  {
   "cell_type": "code",
   "execution_count": null,
   "id": "8e7979d2",
   "metadata": {},
   "outputs": [],
   "source": [
    "import os\n",
    "import shutil\n",
    "nombre_carpeta=input('dime el nombre de la nueva carpeta')\n",
    "os.mkdir(nombre_carpeta)\n",
    "resultado=os.path.isdir(nombre_carpeta)\n",
    "archivo_existe=os.path.exists('datos.csv')\n",
    "#print(resultado)\n",
    "#print(archivo_existe)\n",
    "ruta='C:\\\\Users\\\\Tecnicos\\\\Desktop\\\\Allam\\\\Programacion\\\\Jupyter'\n",
    "archivos=os.listdir(ruta) #mostrar el contenido de archivos de una carpeta\n",
    "print(archivos)\n",
    "#eliminar=os.rmdir('ejemplo') #eliminar carpeta\n",
    "#print(eliminar)\n",
    "shutil.copy('bloc2_scraping14.ipynb','test/bloc2_scraping2.ipynb')"
   ]
  },
  {
   "cell_type": "markdown",
   "id": "5b775449",
   "metadata": {},
   "source": [
    "Utilizando las librerías os y shutil necesitamos:\n",
    "1. Consulta qué archivos tienes en la carpeta de descargas. Este resultado lo guardas en un archivo de texto llamado info.txt - para evitar confusiones, el archivo info debe tener la fecha actual. Es decir\n",
    "info_09112022_1248.txt\n"
   ]
  },
  {
   "cell_type": "code",
   "execution_count": 2,
   "id": "055c8d6b",
   "metadata": {},
   "outputs": [],
   "source": [
    "import os\n",
    "from datetime import datetime\n",
    "ruta_carpeta='C:\\\\Users\\\\Tecnicos\\\\Downloads'\n",
    "archivos=os.listdir(ruta_carpeta)\n",
    "#print(sorted(archivos))\n",
    "fecha=str(datetime.now())\n",
    "f=open('lista_archivos.txt','a') #abrir el archivo en modo escritura\n",
    "for archivo in archivos:\n",
    "    f.write(archivo+' - '+fecha+'\\n')\n",
    "f.close()\n"
   ]
  },
  {
   "cell_type": "markdown",
   "id": "231f6e04",
   "metadata": {},
   "source": [
    "Busca una foto en internet y la guardas en tu carpeta local\n",
    "Referencia:\n",
    "https://parzibyte.me/blog/2018/03/26/descargar-imagen-gif-png-jpg-python/"
   ]
  },
  {
   "cell_type": "code",
   "execution_count": 1,
   "id": "863c7687",
   "metadata": {},
   "outputs": [],
   "source": [
    "from datetime import datetime\n",
    "import requests\n",
    "\n",
    "fecha=str(datetime.now())\n",
    "foto='https://cdn.theatlantic.com/thumbor/UFEufPiT-kC_xMGclAnuqyIG7dc=/600x600/media/img/photo/2018/03/toni-frissell/f01_10079u/original.jpg'\n",
    "mifoto='foto.jpg'\n",
    "imagen = requests.get(foto).content\n",
    "with open(mifoto, 'wb') as x:\n",
    "\tx.write(imagen)"
   ]
  },
  {
   "cell_type": "markdown",
   "id": "bae985a7",
   "metadata": {},
   "source": [
    "Tienes madrid, sevilla y valencia\n",
    "Su presupuesto es 1000 1500 1250\n",
    "Muestra estos datos en un gráfico de barras : matplotlib"
   ]
  },
  {
   "cell_type": "markdown",
   "id": "698bf8a1",
   "metadata": {},
   "source": [
    "buscar en internet una imagen formato png \n",
    "guardala en la carpeta C:\\Users\\Tecnicos\\Desktop\\Allam\\Programacion\\Jupyter\n",
    "dentro de esto tengo una carpeta creada por python llamada fotos y ahi guardas la imagen png de internet con el nombre prueba.png\n",
    "\n",
    "nombre de la foto guardada en mi local será\n",
    "prueba_XXXX.png\n",
    "XXXX los milisegundos desde 1-1-1970\n",
    "datetime now la fecha actual : convertirlo a milisengundos"
   ]
  },
  {
   "cell_type": "code",
   "execution_count": 49,
   "id": "9e789bb2",
   "metadata": {},
   "outputs": [],
   "source": [
    "ruta = \"C:\\\\Users\\\\Tecnicos\\\\Desktop\\\\Allam\\\\Programacion\\\\Jupyter\\\\fotos\"\n",
    "if os.path.isdir(ruta) != True:\n",
    "    os.mkdir(ruta)\n",
    "millisec = int((datetime.utcnow() - datetime(1970, 1, 1)).total_seconds() * 1000)\n",
    "foto='https://s36496.pcdn.co/wp-content/uploads/2017/11/9-si-foto-cv.png'\n",
    "imagen = requests.get(foto).content\n",
    "with open(ruta+'\\\\prueba_'+str(millisec)+'.png', \"wb\") as x:\n",
    "    x.write(imagen)"
   ]
  }
 ],
 "metadata": {
  "kernelspec": {
   "display_name": "Python 3.10.7 64-bit",
   "language": "python",
   "name": "python3"
  },
  "language_info": {
   "codemirror_mode": {
    "name": "ipython",
    "version": 3
   },
   "file_extension": ".py",
   "mimetype": "text/x-python",
   "name": "python",
   "nbconvert_exporter": "python",
   "pygments_lexer": "ipython3",
   "version": "3.10.7"
  },
  "vscode": {
   "interpreter": {
    "hash": "ddcbeb4aa60aa81f9b9026a57747300a8095f9a46022dd0cc95115c425b598d7"
   }
  }
 },
 "nbformat": 4,
 "nbformat_minor": 5
}
