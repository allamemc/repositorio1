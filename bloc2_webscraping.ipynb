{
 "cells": [
  {
   "cell_type": "markdown",
   "id": "d92be489",
   "metadata": {},
   "source": [
    "# Web Scraping"
   ]
  },
  {
   "cell_type": "markdown",
   "id": "2bebc825",
   "metadata": {},
   "source": [
    "Analizar una web\n",
    "https://realpython.com/beautiful-soup-web-scraper-python/\n",
    "Libreria request\n"
   ]
  },
  {
   "cell_type": "code",
   "execution_count": null,
   "id": "d8e8df87",
   "metadata": {},
   "outputs": [],
   "source": [
    "import requests\n",
    "from bs4 import BeautifulSoup \n",
    "web='https://valeriemoreau.com/'\n",
    "pagina=requests.get(web)\n",
    "# print(pagina.content)\n",
    "soup = BeautifulSoup(pagina.content, 'html.parser')\n",
    "# results = soup.find(id=\"password\")\n",
    "# print(results)\n",
    "job_elements = soup.find_all(\"div\", class_=\"st-content\")\n",
    "print(job_elements)"
   ]
  },
  {
   "cell_type": "markdown",
   "id": "6986557d",
   "metadata": {},
   "source": [
    "Entra en esta web\n",
    "https://www.xataka.com/categoria/seguridad\n",
    "\n",
    "Muestra por pantalla el contenido de id llamado fb-root\n",
    "Muestra por pantalla el contenido de class llamado container\n",
    "Muestra por pantalla el listado de imágenes (esto NO lo hemos explicado todavía)"
   ]
  },
  {
   "cell_type": "code",
   "execution_count": 9,
   "id": "8751c7d9",
   "metadata": {},
   "outputs": [],
   "source": [
    "import requests\n",
    "from bs4 import BeautifulSoup\n",
    "web=input('Introduzca el enlace de su pagina web: ')\n",
    "pagina=requests.get(web)\n",
    "soup = BeautifulSoup(pagina.text, 'html.parser')\n",
    "\n",
    "imagenes = soup.find_all('img')\n",
    "links_de_imagenes = []\n",
    "for image in imagenes:\n",
    "    src = image.get('src','href')\n",
    "    links_de_imagenes.append(requests.compat.urljoin(web, src))\n",
    "\n",
    "for image in links_de_imagenes:\n",
    "    webs = requests.get(image)\n",
    "    open('images/' + image.split('/')[-1], 'wb').write(webs.content)\n"
   ]
  }
 ],
 "metadata": {
  "kernelspec": {
   "display_name": "Python 3 (ipykernel)",
   "language": "python",
   "name": "python3"
  },
  "language_info": {
   "codemirror_mode": {
    "name": "ipython",
    "version": 3
   },
   "file_extension": ".py",
   "mimetype": "text/x-python",
   "name": "python",
   "nbconvert_exporter": "python",
   "pygments_lexer": "ipython3",
   "version": "3.10.7"
  },
  "vscode": {
   "interpreter": {
    "hash": "ddcbeb4aa60aa81f9b9026a57747300a8095f9a46022dd0cc95115c425b598d7"
   }
  }
 },
 "nbformat": 4,
 "nbformat_minor": 5
}
